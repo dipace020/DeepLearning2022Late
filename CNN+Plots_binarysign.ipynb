{
  "nbformat": 4,
  "nbformat_minor": 0,
  "metadata": {
    "colab": {
      "provenance": [],
      "authorship_tag": "ABX9TyNn5n/dbg+WMkF7BatSZYGS",
      "include_colab_link": true
    },
    "kernelspec": {
      "name": "python3",
      "display_name": "Python 3"
    },
    "language_info": {
      "name": "python"
    }
  },
  "cells": [
    {
      "cell_type": "markdown",
      "metadata": {
        "id": "view-in-github",
        "colab_type": "text"
      },
      "source": [
        "<a href=\"https://colab.research.google.com/github/dipace020/DeepLearning2022Late/blob/main/CNN%2BPlots_binarysign.ipynb\" target=\"_parent\"><img src=\"https://colab.research.google.com/assets/colab-badge.svg\" alt=\"Open In Colab\"/></a>"
      ]
    },
    {
      "cell_type": "code",
      "execution_count": null,
      "metadata": {
        "id": "4BPshZa7GbqY"
      },
      "outputs": [],
      "source": []
    },
    {
      "cell_type": "markdown",
      "source": [
        "##two valued probleme\n",
        "\n"
      ],
      "metadata": {
        "id": "zP5eMyQ8GjTe"
      }
    },
    {
      "cell_type": "code",
      "source": [],
      "metadata": {
        "id": "RDMqQTypGouy"
      },
      "execution_count": null,
      "outputs": []
    },
    {
      "cell_type": "markdown",
      "source": [
        "importing the training library"
      ],
      "metadata": {
        "id": "yRnXtp6bGrVS"
      }
    },
    {
      "cell_type": "code",
      "source": [
        "from keras.models import Sequential, Model\n",
        "from keras.layers import Conv2D\n",
        "from keras.layers import Flatten\n",
        "from keras.layers import Dense"
      ],
      "metadata": {
        "id": "YjYeCVnAGw2a"
      },
      "execution_count": 2,
      "outputs": []
    },
    {
      "cell_type": "code",
      "source": [],
      "metadata": {
        "id": "j5vVlskQHHaJ"
      },
      "execution_count": null,
      "outputs": []
    },
    {
      "cell_type": "markdown",
      "source": [
        "###importing svg library"
      ],
      "metadata": {
        "id": "SlsXz-X0HSvq"
      }
    },
    {
      "cell_type": "code",
      "source": [
        "from IPython.display import SVG\n",
        "from keras.utils.vis_utils import model_to_dot"
      ],
      "metadata": {
        "id": "scy3d3DdHYUa"
      },
      "execution_count": 4,
      "outputs": []
    },
    {
      "cell_type": "code",
      "source": [],
      "metadata": {
        "id": "kGOrWRIuHfSE"
      },
      "execution_count": null,
      "outputs": []
    },
    {
      "cell_type": "code",
      "source": [],
      "metadata": {
        "id": "syzBTrD6H-oy"
      },
      "execution_count": null,
      "outputs": []
    },
    {
      "cell_type": "markdown",
      "source": [
        "#creating training model"
      ],
      "metadata": {
        "id": "yFHVUvl1IB_5"
      }
    },
    {
      "cell_type": "code",
      "source": [
        "model=Sequential()\n"
      ],
      "metadata": {
        "id": "thEmsLYVIEgC"
      },
      "execution_count": 5,
      "outputs": []
    },
    {
      "cell_type": "code",
      "source": [],
      "metadata": {
        "id": "3q1NF2ccIJ8v"
      },
      "execution_count": null,
      "outputs": []
    },
    {
      "cell_type": "markdown",
      "source": [
        "#adding neuron"
      ],
      "metadata": {
        "id": "WJvlK7S7ImQ7"
      }
    },
    {
      "cell_type": "code",
      "source": [
        "model.add(Conv2D(\n",
        "    filters=3,\n",
        "    kernel_size=(3,3),\n",
        "    input_shape=(6,6,1),\n",
        "    padding='same',\n",
        "    name='Conv2d_1'\n",
        "))"
      ],
      "metadata": {
        "id": "rh56i9XkIoUX"
      },
      "execution_count": 9,
      "outputs": []
    },
    {
      "cell_type": "code",
      "source": [
        "model.add(Flatten(name='Flatten_1'))"
      ],
      "metadata": {
        "id": "7pAxLRtgJ5YI"
      },
      "execution_count": 12,
      "outputs": []
    },
    {
      "cell_type": "code",
      "source": [
        "model.add(Dense(\n",
        "    units=1,activation='sigmoid',name='Dense_1'\n",
        "))"
      ],
      "metadata": {
        "id": "EjYwCwCiKkA4"
      },
      "execution_count": 14,
      "outputs": []
    },
    {
      "cell_type": "code",
      "source": [
        "SVG(model_to_dot(\n",
        "    model,show_shapes=True,dpi=None).create(prog='dot',format='svg')\n",
        ")"
      ],
      "metadata": {
        "colab": {
          "base_uri": "https://localhost:8080/",
          "height": 426
        },
        "id": "WaOczFixL15S",
        "outputId": "a870ba51-7ae1-4373-829a-ab38fcb96a98"
      },
      "execution_count": 16,
      "outputs": [
        {
          "output_type": "execute_result",
          "data": {
            "text/plain": [
              "<IPython.core.display.SVG object>"
            ],
            "image/svg+xml": "<svg height=\"304pt\" viewBox=\"0.00 0.00 365.50 304.00\" width=\"366pt\" xmlns=\"http://www.w3.org/2000/svg\" xmlns:xlink=\"http://www.w3.org/1999/xlink\">\n<g class=\"graph\" id=\"graph0\" transform=\"scale(1 1) rotate(0) translate(4 300)\">\n<title>G</title>\n<polygon fill=\"#ffffff\" points=\"-4,4 -4,-300 361.5,-300 361.5,4 -4,4\" stroke=\"transparent\"/>\n<!-- dpi -->\n<g class=\"node\" id=\"node1\">\n<title>dpi</title>\n<ellipse cx=\"27\" cy=\"-272.5\" fill=\"none\" rx=\"27\" ry=\"18\" stroke=\"#000000\"/>\n<text fill=\"#000000\" font-family=\"Times,serif\" font-size=\"14.00\" text-anchor=\"middle\" x=\"27\" y=\"-268.8\">dpi</text>\n</g>\n<!-- 139671328227408 -->\n<g class=\"node\" id=\"node2\">\n<title>139671328227408</title>\n<polygon fill=\"none\" points=\"72.5,-249.5 72.5,-295.5 357.5,-295.5 357.5,-249.5 72.5,-249.5\" stroke=\"#000000\"/>\n<text fill=\"#000000\" font-family=\"Times,serif\" font-size=\"14.00\" text-anchor=\"middle\" x=\"130.5\" y=\"-280.3\">Conv2d_1_input</text>\n<polyline fill=\"none\" points=\"72.5,-272.5 188.5,-272.5 \" stroke=\"#000000\"/>\n<text fill=\"#000000\" font-family=\"Times,serif\" font-size=\"14.00\" text-anchor=\"middle\" x=\"130.5\" y=\"-257.3\">InputLayer</text>\n<polyline fill=\"none\" points=\"188.5,-249.5 188.5,-295.5 \" stroke=\"#000000\"/>\n<text fill=\"#000000\" font-family=\"Times,serif\" font-size=\"14.00\" text-anchor=\"middle\" x=\"217.5\" y=\"-280.3\">input:</text>\n<polyline fill=\"none\" points=\"188.5,-272.5 246.5,-272.5 \" stroke=\"#000000\"/>\n<text fill=\"#000000\" font-family=\"Times,serif\" font-size=\"14.00\" text-anchor=\"middle\" x=\"217.5\" y=\"-257.3\">output:</text>\n<polyline fill=\"none\" points=\"246.5,-249.5 246.5,-295.5 \" stroke=\"#000000\"/>\n<text fill=\"#000000\" font-family=\"Times,serif\" font-size=\"14.00\" text-anchor=\"middle\" x=\"302\" y=\"-280.3\">[(None, 6, 6, 1)]</text>\n<polyline fill=\"none\" points=\"246.5,-272.5 357.5,-272.5 \" stroke=\"#000000\"/>\n<text fill=\"#000000\" font-family=\"Times,serif\" font-size=\"14.00\" text-anchor=\"middle\" x=\"302\" y=\"-257.3\">[(None, 6, 6, 1)]</text>\n</g>\n<!-- 139671328230416 -->\n<g class=\"node\" id=\"node3\">\n<title>139671328230416</title>\n<polygon fill=\"none\" points=\"95.5,-166.5 95.5,-212.5 334.5,-212.5 334.5,-166.5 95.5,-166.5\" stroke=\"#000000\"/>\n<text fill=\"#000000\" font-family=\"Times,serif\" font-size=\"14.00\" text-anchor=\"middle\" x=\"135\" y=\"-197.3\">Conv2d_1</text>\n<polyline fill=\"none\" points=\"95.5,-189.5 174.5,-189.5 \" stroke=\"#000000\"/>\n<text fill=\"#000000\" font-family=\"Times,serif\" font-size=\"14.00\" text-anchor=\"middle\" x=\"135\" y=\"-174.3\">Conv2D</text>\n<polyline fill=\"none\" points=\"174.5,-166.5 174.5,-212.5 \" stroke=\"#000000\"/>\n<text fill=\"#000000\" font-family=\"Times,serif\" font-size=\"14.00\" text-anchor=\"middle\" x=\"203.5\" y=\"-197.3\">input:</text>\n<polyline fill=\"none\" points=\"174.5,-189.5 232.5,-189.5 \" stroke=\"#000000\"/>\n<text fill=\"#000000\" font-family=\"Times,serif\" font-size=\"14.00\" text-anchor=\"middle\" x=\"203.5\" y=\"-174.3\">output:</text>\n<polyline fill=\"none\" points=\"232.5,-166.5 232.5,-212.5 \" stroke=\"#000000\"/>\n<text fill=\"#000000\" font-family=\"Times,serif\" font-size=\"14.00\" text-anchor=\"middle\" x=\"283.5\" y=\"-197.3\">(None, 6, 6, 1)</text>\n<polyline fill=\"none\" points=\"232.5,-189.5 334.5,-189.5 \" stroke=\"#000000\"/>\n<text fill=\"#000000\" font-family=\"Times,serif\" font-size=\"14.00\" text-anchor=\"middle\" x=\"283.5\" y=\"-174.3\">(None, 6, 6, 3)</text>\n</g>\n<!-- 139671328227408&#45;&gt;139671328230416 -->\n<g class=\"edge\" id=\"edge1\">\n<title>139671328227408-&gt;139671328230416</title>\n<path d=\"M215,-249.3799C215,-241.1745 215,-231.7679 215,-222.8786\" fill=\"none\" stroke=\"#000000\"/>\n<polygon fill=\"#000000\" points=\"218.5001,-222.784 215,-212.784 211.5001,-222.784 218.5001,-222.784\" stroke=\"#000000\"/>\n</g>\n<!-- 139671326844112 -->\n<g class=\"node\" id=\"node4\">\n<title>139671326844112</title>\n<polygon fill=\"none\" points=\"99.5,-83.5 99.5,-129.5 330.5,-129.5 330.5,-83.5 99.5,-83.5\" stroke=\"#000000\"/>\n<text fill=\"#000000\" font-family=\"Times,serif\" font-size=\"14.00\" text-anchor=\"middle\" x=\"135\" y=\"-114.3\">Flatten_1</text>\n<polyline fill=\"none\" points=\"99.5,-106.5 170.5,-106.5 \" stroke=\"#000000\"/>\n<text fill=\"#000000\" font-family=\"Times,serif\" font-size=\"14.00\" text-anchor=\"middle\" x=\"135\" y=\"-91.3\">Flatten</text>\n<polyline fill=\"none\" points=\"170.5,-83.5 170.5,-129.5 \" stroke=\"#000000\"/>\n<text fill=\"#000000\" font-family=\"Times,serif\" font-size=\"14.00\" text-anchor=\"middle\" x=\"199.5\" y=\"-114.3\">input:</text>\n<polyline fill=\"none\" points=\"170.5,-106.5 228.5,-106.5 \" stroke=\"#000000\"/>\n<text fill=\"#000000\" font-family=\"Times,serif\" font-size=\"14.00\" text-anchor=\"middle\" x=\"199.5\" y=\"-91.3\">output:</text>\n<polyline fill=\"none\" points=\"228.5,-83.5 228.5,-129.5 \" stroke=\"#000000\"/>\n<text fill=\"#000000\" font-family=\"Times,serif\" font-size=\"14.00\" text-anchor=\"middle\" x=\"279.5\" y=\"-114.3\">(None, 6, 6, 3)</text>\n<polyline fill=\"none\" points=\"228.5,-106.5 330.5,-106.5 \" stroke=\"#000000\"/>\n<text fill=\"#000000\" font-family=\"Times,serif\" font-size=\"14.00\" text-anchor=\"middle\" x=\"279.5\" y=\"-91.3\">(None, 108)</text>\n</g>\n<!-- 139671328230416&#45;&gt;139671326844112 -->\n<g class=\"edge\" id=\"edge2\">\n<title>139671328230416-&gt;139671326844112</title>\n<path d=\"M215,-166.3799C215,-158.1745 215,-148.7679 215,-139.8786\" fill=\"none\" stroke=\"#000000\"/>\n<polygon fill=\"#000000\" points=\"218.5001,-139.784 215,-129.784 211.5001,-139.784 218.5001,-139.784\" stroke=\"#000000\"/>\n</g>\n<!-- 139671326903696 -->\n<g class=\"node\" id=\"node5\">\n<title>139671326903696</title>\n<polygon fill=\"none\" points=\"109,-.5 109,-46.5 321,-46.5 321,-.5 109,-.5\" stroke=\"#000000\"/>\n<text fill=\"#000000\" font-family=\"Times,serif\" font-size=\"14.00\" text-anchor=\"middle\" x=\"142.5\" y=\"-31.3\">Dense_1</text>\n<polyline fill=\"none\" points=\"109,-23.5 176,-23.5 \" stroke=\"#000000\"/>\n<text fill=\"#000000\" font-family=\"Times,serif\" font-size=\"14.00\" text-anchor=\"middle\" x=\"142.5\" y=\"-8.3\">Dense</text>\n<polyline fill=\"none\" points=\"176,-.5 176,-46.5 \" stroke=\"#000000\"/>\n<text fill=\"#000000\" font-family=\"Times,serif\" font-size=\"14.00\" text-anchor=\"middle\" x=\"205\" y=\"-31.3\">input:</text>\n<polyline fill=\"none\" points=\"176,-23.5 234,-23.5 \" stroke=\"#000000\"/>\n<text fill=\"#000000\" font-family=\"Times,serif\" font-size=\"14.00\" text-anchor=\"middle\" x=\"205\" y=\"-8.3\">output:</text>\n<polyline fill=\"none\" points=\"234,-.5 234,-46.5 \" stroke=\"#000000\"/>\n<text fill=\"#000000\" font-family=\"Times,serif\" font-size=\"14.00\" text-anchor=\"middle\" x=\"277.5\" y=\"-31.3\">(None, 108)</text>\n<polyline fill=\"none\" points=\"234,-23.5 321,-23.5 \" stroke=\"#000000\"/>\n<text fill=\"#000000\" font-family=\"Times,serif\" font-size=\"14.00\" text-anchor=\"middle\" x=\"277.5\" y=\"-8.3\">(None, 1)</text>\n</g>\n<!-- 139671326844112&#45;&gt;139671326903696 -->\n<g class=\"edge\" id=\"edge3\">\n<title>139671326844112-&gt;139671326903696</title>\n<path d=\"M215,-83.3799C215,-75.1745 215,-65.7679 215,-56.8786\" fill=\"none\" stroke=\"#000000\"/>\n<polygon fill=\"#000000\" points=\"218.5001,-56.784 215,-46.784 211.5001,-56.784 218.5001,-56.784\" stroke=\"#000000\"/>\n</g>\n</g>\n</svg>"
          },
          "metadata": {},
          "execution_count": 16
        }
      ]
    },
    {
      "cell_type": "code",
      "source": [],
      "metadata": {
        "id": "T2Kvqp02NZR7"
      },
      "execution_count": null,
      "outputs": []
    }
  ]
}